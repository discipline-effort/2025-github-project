{
 "cells": [
  {
   "cell_type": "markdown",
   "metadata": {},
   "source": "l对应 `tf.keras` 的01~02章节"
  },
  {
   "cell_type": "code",
   "metadata": {
    "ExecuteTime": {
     "end_time": "2025-02-25T15:38:09.583135Z",
     "start_time": "2025-02-25T15:37:54.374233Z"
    }
   },
   "source": [
    "import matplotlib as mpl\n",
    "import matplotlib.pyplot as plt\n",
    "%matplotlib inline\n",
    "import numpy as np\n",
    "import sklearn\n",
    "import pandas as pd\n",
    "import os\n",
    "import sys\n",
    "import time\n",
    "from tqdm.auto import tqdm\n",
    "import torch\n",
    "import torch.nn as nn\n",
    "import torch.nn.functional as F\n",
    "\n",
    "print(sys.version_info)\n",
    "for module in mpl, np, pd, sklearn, torch:\n",
    "    print(module.__name__, module.__version__)\n",
    "    \n",
    "device = torch.device(\"cuda:0\") if torch.cuda.is_available() else torch.device(\"cpu\")\n",
    "print(device)\n"
   ],
   "outputs": [
    {
     "name": "stdout",
     "output_type": "stream",
     "text": [
      "sys.version_info(major=3, minor=12, micro=3, releaselevel='final', serial=0)\n",
      "matplotlib 3.10.0\n",
      "numpy 1.26.4\n",
      "pandas 2.2.3\n",
      "sklearn 1.6.1\n",
      "torch 2.6.0+cpu\n",
      "cpu\n"
     ]
    }
   ],
   "execution_count": 1
  },
  {
   "cell_type": "code",
   "source": [
    "28*28"
   ],
   "metadata": {
    "collapsed": false,
    "ExecuteTime": {
     "end_time": "2025-02-25T15:38:09.591473Z",
     "start_time": "2025-02-25T15:38:09.584137Z"
    }
   },
   "outputs": [
    {
     "data": {
      "text/plain": [
       "784"
      ]
     },
     "execution_count": 2,
     "metadata": {},
     "output_type": "execute_result"
    }
   ],
   "execution_count": 2
  },
  {
   "cell_type": "markdown",
   "metadata": {},
   "source": [
    "## 数据准备"
   ]
  },
  {
   "cell_type": "code",
   "metadata": {
    "ExecuteTime": {
     "end_time": "2025-02-25T15:41:48.703198Z",
     "start_time": "2025-02-25T15:41:48.646244Z"
    }
   },
   "source": [
    "from torchvision import datasets\n",
    "from torchvision.transforms import ToTensor\n",
    "from torchvision import transforms\n",
    "\n",
    "\n",
    "# 定义数据集的变换\n",
    "transform = transforms.Compose([\n",
    "    transforms.ToTensor(), # 转换为tensor，进行归一化\n",
    "    # transforms.Normalize(mean, std) # 标准化，mean和std是数据集的均值和方差\n",
    "])\n",
    "# fashion_mnist图像分类数据集，衣服分类，60000张训练图片，10000张测试图片\n",
    "train_ds = datasets.FashionMNIST(\n",
    "    root=\"data\",\n",
    "    train=True,\n",
    "    download=True,\n",
    "    transform=transform\n",
    ")\n",
    "\n",
    "test_ds = datasets.FashionMNIST(\n",
    "    root=\"data\",\n",
    "    train=False,\n",
    "    download=True,\n",
    "    transform=transform\n",
    ")\n",
    "\n",
    "# torchvision 数据集里没有提供训练集和验证集的划分\n",
    "# 当然也可以用 torch.utils.data.Dataset 实现人为划分"
   ],
   "outputs": [],
   "execution_count": 34
  },
  {
   "cell_type": "code",
   "source": [
    "type(train_ds)"
   ],
   "metadata": {
    "collapsed": false,
    "ExecuteTime": {
     "end_time": "2025-02-25T15:41:26.894847Z",
     "start_time": "2025-02-25T15:41:26.888136Z"
    }
   },
   "outputs": [
    {
     "data": {
      "text/plain": [
       "torchvision.datasets.mnist.FashionMNIST"
      ]
     },
     "execution_count": 19,
     "metadata": {},
     "output_type": "execute_result"
    }
   ],
   "execution_count": 19
  },
  {
   "cell_type": "code",
   "source": [
    "len(train_ds)"
   ],
   "metadata": {
    "collapsed": false,
    "ExecuteTime": {
     "end_time": "2025-02-25T15:41:26.944116Z",
     "start_time": "2025-02-25T15:41:26.937081Z"
    }
   },
   "outputs": [
    {
     "data": {
      "text/plain": [
       "60000"
      ]
     },
     "execution_count": 20,
     "metadata": {},
     "output_type": "execute_result"
    }
   ],
   "execution_count": 20
  },
  {
   "cell_type": "code",
   "source": [
    "type(train_ds[0])"
   ],
   "metadata": {
    "collapsed": false,
    "ExecuteTime": {
     "end_time": "2025-02-25T15:41:26.997251Z",
     "start_time": "2025-02-25T15:41:26.991532Z"
    }
   },
   "outputs": [
    {
     "data": {
      "text/plain": [
       "tuple"
      ]
     },
     "execution_count": 21,
     "metadata": {},
     "output_type": "execute_result"
    }
   ],
   "execution_count": 21
  },
  {
   "cell_type": "code",
   "metadata": {
    "ExecuteTime": {
     "end_time": "2025-02-25T15:41:53.779558Z",
     "start_time": "2025-02-25T15:41:53.773417Z"
    }
   },
   "source": [
    "# 通过id取数据，取到的是一个元祖,是第一个样本,在训练时，把特征和标签分开\n",
    "img, label = train_ds[0]\n",
    "img.shape\n",
    "# img.shape = (1, 28, 28)，这是因为通道数在最前面"
   ],
   "outputs": [
    {
     "data": {
      "text/plain": [
       "torch.Size([1, 28, 28])"
      ]
     },
     "execution_count": 35,
     "metadata": {},
     "output_type": "execute_result"
    }
   ],
   "execution_count": 35
  },
  {
   "metadata": {
    "ExecuteTime": {
     "end_time": "2025-02-25T15:41:58.914151Z",
     "start_time": "2025-02-25T15:41:58.909095Z"
    }
   },
   "cell_type": "code",
   "source": "type(img) #tensor中文是 张量,和numpy的ndarray类似",
   "outputs": [
    {
     "data": {
      "text/plain": [
       "torch.Tensor"
      ]
     },
     "execution_count": 36,
     "metadata": {},
     "output_type": "execute_result"
    }
   ],
   "execution_count": 36
  },
  {
   "cell_type": "code",
   "source": "img[0]",
   "metadata": {
    "collapsed": false,
    "ExecuteTime": {
     "end_time": "2025-02-25T15:42:01.362724Z",
     "start_time": "2025-02-25T15:42:01.349221Z"
    }
   },
   "outputs": [
    {
     "data": {
      "text/plain": [
       "tensor([[0.0000, 0.0000, 0.0000, 0.0000, 0.0000, 0.0000, 0.0000, 0.0000, 0.0000,\n",
       "         0.0000, 0.0000, 0.0000, 0.0000, 0.0000, 0.0000, 0.0000, 0.0000, 0.0000,\n",
       "         0.0000, 0.0000, 0.0000, 0.0000, 0.0000, 0.0000, 0.0000, 0.0000, 0.0000,\n",
       "         0.0000],\n",
       "        [0.0000, 0.0000, 0.0000, 0.0000, 0.0000, 0.0000, 0.0000, 0.0000, 0.0000,\n",
       "         0.0000, 0.0000, 0.0000, 0.0000, 0.0000, 0.0000, 0.0000, 0.0000, 0.0000,\n",
       "         0.0000, 0.0000, 0.0000, 0.0000, 0.0000, 0.0000, 0.0000, 0.0000, 0.0000,\n",
       "         0.0000],\n",
       "        [0.0000, 0.0000, 0.0000, 0.0000, 0.0000, 0.0000, 0.0000, 0.0000, 0.0000,\n",
       "         0.0000, 0.0000, 0.0000, 0.0000, 0.0000, 0.0000, 0.0000, 0.0000, 0.0000,\n",
       "         0.0000, 0.0000, 0.0000, 0.0000, 0.0000, 0.0000, 0.0000, 0.0000, 0.0000,\n",
       "         0.0000],\n",
       "        [0.0000, 0.0000, 0.0000, 0.0000, 0.0000, 0.0000, 0.0000, 0.0000, 0.0000,\n",
       "         0.0000, 0.0000, 0.0000, 0.0039, 0.0000, 0.0000, 0.0510, 0.2863, 0.0000,\n",
       "         0.0000, 0.0039, 0.0157, 0.0000, 0.0000, 0.0000, 0.0000, 0.0039, 0.0039,\n",
       "         0.0000],\n",
       "        [0.0000, 0.0000, 0.0000, 0.0000, 0.0000, 0.0000, 0.0000, 0.0000, 0.0000,\n",
       "         0.0000, 0.0000, 0.0000, 0.0118, 0.0000, 0.1412, 0.5333, 0.4980, 0.2431,\n",
       "         0.2118, 0.0000, 0.0000, 0.0000, 0.0039, 0.0118, 0.0157, 0.0000, 0.0000,\n",
       "         0.0118],\n",
       "        [0.0000, 0.0000, 0.0000, 0.0000, 0.0000, 0.0000, 0.0000, 0.0000, 0.0000,\n",
       "         0.0000, 0.0000, 0.0000, 0.0235, 0.0000, 0.4000, 0.8000, 0.6902, 0.5255,\n",
       "         0.5647, 0.4824, 0.0902, 0.0000, 0.0000, 0.0000, 0.0000, 0.0471, 0.0392,\n",
       "         0.0000],\n",
       "        [0.0000, 0.0000, 0.0000, 0.0000, 0.0000, 0.0000, 0.0000, 0.0000, 0.0000,\n",
       "         0.0000, 0.0000, 0.0000, 0.0000, 0.0000, 0.6078, 0.9255, 0.8118, 0.6980,\n",
       "         0.4196, 0.6118, 0.6314, 0.4275, 0.2510, 0.0902, 0.3020, 0.5098, 0.2824,\n",
       "         0.0588],\n",
       "        [0.0000, 0.0000, 0.0000, 0.0000, 0.0000, 0.0000, 0.0000, 0.0000, 0.0000,\n",
       "         0.0000, 0.0000, 0.0039, 0.0000, 0.2706, 0.8118, 0.8745, 0.8549, 0.8471,\n",
       "         0.8471, 0.6392, 0.4980, 0.4745, 0.4784, 0.5725, 0.5529, 0.3451, 0.6745,\n",
       "         0.2588],\n",
       "        [0.0000, 0.0000, 0.0000, 0.0000, 0.0000, 0.0000, 0.0000, 0.0000, 0.0000,\n",
       "         0.0039, 0.0039, 0.0039, 0.0000, 0.7843, 0.9098, 0.9098, 0.9137, 0.8980,\n",
       "         0.8745, 0.8745, 0.8431, 0.8353, 0.6431, 0.4980, 0.4824, 0.7686, 0.8980,\n",
       "         0.0000],\n",
       "        [0.0000, 0.0000, 0.0000, 0.0000, 0.0000, 0.0000, 0.0000, 0.0000, 0.0000,\n",
       "         0.0000, 0.0000, 0.0000, 0.0000, 0.7176, 0.8824, 0.8471, 0.8745, 0.8941,\n",
       "         0.9216, 0.8902, 0.8784, 0.8706, 0.8784, 0.8667, 0.8745, 0.9608, 0.6784,\n",
       "         0.0000],\n",
       "        [0.0000, 0.0000, 0.0000, 0.0000, 0.0000, 0.0000, 0.0000, 0.0000, 0.0000,\n",
       "         0.0000, 0.0000, 0.0000, 0.0000, 0.7569, 0.8941, 0.8549, 0.8353, 0.7765,\n",
       "         0.7059, 0.8314, 0.8235, 0.8275, 0.8353, 0.8745, 0.8627, 0.9529, 0.7922,\n",
       "         0.0000],\n",
       "        [0.0000, 0.0000, 0.0000, 0.0000, 0.0000, 0.0000, 0.0000, 0.0000, 0.0000,\n",
       "         0.0039, 0.0118, 0.0000, 0.0471, 0.8588, 0.8627, 0.8314, 0.8549, 0.7529,\n",
       "         0.6627, 0.8902, 0.8157, 0.8549, 0.8784, 0.8314, 0.8863, 0.7725, 0.8196,\n",
       "         0.2039],\n",
       "        [0.0000, 0.0000, 0.0000, 0.0000, 0.0000, 0.0000, 0.0000, 0.0000, 0.0000,\n",
       "         0.0000, 0.0235, 0.0000, 0.3882, 0.9569, 0.8706, 0.8627, 0.8549, 0.7961,\n",
       "         0.7765, 0.8667, 0.8431, 0.8353, 0.8706, 0.8627, 0.9608, 0.4667, 0.6549,\n",
       "         0.2196],\n",
       "        [0.0000, 0.0000, 0.0000, 0.0000, 0.0000, 0.0000, 0.0000, 0.0000, 0.0000,\n",
       "         0.0157, 0.0000, 0.0000, 0.2157, 0.9255, 0.8941, 0.9020, 0.8941, 0.9412,\n",
       "         0.9098, 0.8353, 0.8549, 0.8745, 0.9176, 0.8510, 0.8510, 0.8196, 0.3608,\n",
       "         0.0000],\n",
       "        [0.0000, 0.0000, 0.0039, 0.0157, 0.0235, 0.0275, 0.0078, 0.0000, 0.0000,\n",
       "         0.0000, 0.0000, 0.0000, 0.9294, 0.8863, 0.8510, 0.8745, 0.8706, 0.8588,\n",
       "         0.8706, 0.8667, 0.8471, 0.8745, 0.8980, 0.8431, 0.8549, 1.0000, 0.3020,\n",
       "         0.0000],\n",
       "        [0.0000, 0.0118, 0.0000, 0.0000, 0.0000, 0.0000, 0.0000, 0.0000, 0.0000,\n",
       "         0.2431, 0.5686, 0.8000, 0.8941, 0.8118, 0.8353, 0.8667, 0.8549, 0.8157,\n",
       "         0.8275, 0.8549, 0.8784, 0.8745, 0.8588, 0.8431, 0.8784, 0.9569, 0.6235,\n",
       "         0.0000],\n",
       "        [0.0000, 0.0000, 0.0000, 0.0000, 0.0706, 0.1725, 0.3216, 0.4196, 0.7412,\n",
       "         0.8941, 0.8627, 0.8706, 0.8510, 0.8863, 0.7843, 0.8039, 0.8275, 0.9020,\n",
       "         0.8784, 0.9176, 0.6902, 0.7373, 0.9804, 0.9725, 0.9137, 0.9333, 0.8431,\n",
       "         0.0000],\n",
       "        [0.0000, 0.2235, 0.7333, 0.8157, 0.8784, 0.8667, 0.8784, 0.8157, 0.8000,\n",
       "         0.8392, 0.8157, 0.8196, 0.7843, 0.6235, 0.9608, 0.7569, 0.8078, 0.8745,\n",
       "         1.0000, 1.0000, 0.8667, 0.9176, 0.8667, 0.8275, 0.8627, 0.9098, 0.9647,\n",
       "         0.0000],\n",
       "        [0.0118, 0.7922, 0.8941, 0.8784, 0.8667, 0.8275, 0.8275, 0.8392, 0.8039,\n",
       "         0.8039, 0.8039, 0.8627, 0.9412, 0.3137, 0.5882, 1.0000, 0.8980, 0.8667,\n",
       "         0.7373, 0.6039, 0.7490, 0.8235, 0.8000, 0.8196, 0.8706, 0.8941, 0.8824,\n",
       "         0.0000],\n",
       "        [0.3843, 0.9137, 0.7765, 0.8235, 0.8706, 0.8980, 0.8980, 0.9176, 0.9765,\n",
       "         0.8627, 0.7608, 0.8431, 0.8510, 0.9451, 0.2549, 0.2863, 0.4157, 0.4588,\n",
       "         0.6588, 0.8588, 0.8667, 0.8431, 0.8510, 0.8745, 0.8745, 0.8784, 0.8980,\n",
       "         0.1137],\n",
       "        [0.2941, 0.8000, 0.8314, 0.8000, 0.7569, 0.8039, 0.8275, 0.8824, 0.8471,\n",
       "         0.7255, 0.7725, 0.8078, 0.7765, 0.8353, 0.9412, 0.7647, 0.8902, 0.9608,\n",
       "         0.9373, 0.8745, 0.8549, 0.8314, 0.8196, 0.8706, 0.8627, 0.8667, 0.9020,\n",
       "         0.2627],\n",
       "        [0.1882, 0.7961, 0.7176, 0.7608, 0.8353, 0.7725, 0.7255, 0.7451, 0.7608,\n",
       "         0.7529, 0.7922, 0.8392, 0.8588, 0.8667, 0.8627, 0.9255, 0.8824, 0.8471,\n",
       "         0.7804, 0.8078, 0.7294, 0.7098, 0.6941, 0.6745, 0.7098, 0.8039, 0.8078,\n",
       "         0.4510],\n",
       "        [0.0000, 0.4784, 0.8588, 0.7569, 0.7020, 0.6706, 0.7176, 0.7686, 0.8000,\n",
       "         0.8235, 0.8353, 0.8118, 0.8275, 0.8235, 0.7843, 0.7686, 0.7608, 0.7490,\n",
       "         0.7647, 0.7490, 0.7765, 0.7529, 0.6902, 0.6118, 0.6549, 0.6941, 0.8235,\n",
       "         0.3608],\n",
       "        [0.0000, 0.0000, 0.2902, 0.7412, 0.8314, 0.7490, 0.6863, 0.6745, 0.6863,\n",
       "         0.7098, 0.7255, 0.7373, 0.7412, 0.7373, 0.7569, 0.7765, 0.8000, 0.8196,\n",
       "         0.8235, 0.8235, 0.8275, 0.7373, 0.7373, 0.7608, 0.7529, 0.8471, 0.6667,\n",
       "         0.0000],\n",
       "        [0.0078, 0.0000, 0.0000, 0.0000, 0.2588, 0.7843, 0.8706, 0.9294, 0.9373,\n",
       "         0.9490, 0.9647, 0.9529, 0.9569, 0.8667, 0.8627, 0.7569, 0.7490, 0.7020,\n",
       "         0.7137, 0.7137, 0.7098, 0.6902, 0.6510, 0.6588, 0.3882, 0.2275, 0.0000,\n",
       "         0.0000],\n",
       "        [0.0000, 0.0000, 0.0000, 0.0000, 0.0000, 0.0000, 0.0000, 0.1569, 0.2392,\n",
       "         0.1725, 0.2824, 0.1608, 0.1373, 0.0000, 0.0000, 0.0000, 0.0000, 0.0000,\n",
       "         0.0000, 0.0000, 0.0000, 0.0000, 0.0000, 0.0000, 0.0000, 0.0000, 0.0000,\n",
       "         0.0000],\n",
       "        [0.0000, 0.0000, 0.0000, 0.0000, 0.0000, 0.0000, 0.0000, 0.0000, 0.0000,\n",
       "         0.0000, 0.0000, 0.0000, 0.0000, 0.0000, 0.0000, 0.0000, 0.0000, 0.0000,\n",
       "         0.0000, 0.0000, 0.0000, 0.0000, 0.0000, 0.0000, 0.0000, 0.0000, 0.0000,\n",
       "         0.0000],\n",
       "        [0.0000, 0.0000, 0.0000, 0.0000, 0.0000, 0.0000, 0.0000, 0.0000, 0.0000,\n",
       "         0.0000, 0.0000, 0.0000, 0.0000, 0.0000, 0.0000, 0.0000, 0.0000, 0.0000,\n",
       "         0.0000, 0.0000, 0.0000, 0.0000, 0.0000, 0.0000, 0.0000, 0.0000, 0.0000,\n",
       "         0.0000]])"
      ]
     },
     "execution_count": 37,
     "metadata": {},
     "output_type": "execute_result"
    }
   ],
   "execution_count": 37
  },
  {
   "metadata": {
    "ExecuteTime": {
     "end_time": "2025-02-25T15:41:27.357658Z",
     "start_time": "2025-02-25T15:41:27.346699Z"
    }
   },
   "cell_type": "code",
   "source": "img",
   "outputs": [
    {
     "data": {
      "text/plain": [
       "<PIL.Image.Image image mode=L size=28x28>"
      ],
      "image/png": "[encoded data removed]",
      "image/jpeg": "[encoded data removed]"
     },
     "execution_count": 25,
     "metadata": {},
     "output_type": "execute_result"
    }
   ],
   "execution_count": 25
  },
  {
   "cell_type": "code",
   "source": [
    "#计算均值和方差\n",
    "def cal_mean_std(ds):\n",
    "    mean = 0.\n",
    "    std = 0.\n",
    "    for img, _ in ds: # 遍历每张图片,img.shape=[1,28,28]\n",
    "        mean += img.mean(dim=(1, 2))\n",
    "        std += img.std(dim=(1, 2))\n",
    "    mean /= len(ds)\n",
    "    std /= len(ds)\n",
    "    return mean, std\n",
    "\n",
    "\n",
    "print(cal_mean_std(train_ds))\n"
   ],
   "metadata": {
    "collapsed": false,
    "ExecuteTime": {
     "end_time": "2025-02-25T15:42:17.948900Z",
     "start_time": "2025-02-25T15:42:06.655888Z"
    }
   },
   "outputs": [
    {
     "name": "stdout",
     "output_type": "stream",
     "text": [
      "(tensor([0.2860]), tensor([0.3205]))\n"
     ]
    }
   ],
   "execution_count": 38
  },
  {
   "cell_type": "code",
   "source": [
    "type(img)"
   ],
   "metadata": {
    "collapsed": false,
    "ExecuteTime": {
     "end_time": "2025-02-25T15:42:17.957501Z",
     "start_time": "2025-02-25T15:42:17.950898Z"
    }
   },
   "outputs": [
    {
     "data": {
      "text/plain": [
       "torch.Tensor"
      ]
     },
     "execution_count": 39,
     "metadata": {},
     "output_type": "execute_result"
    }
   ],
   "execution_count": 39
  },
  {
   "cell_type": "code",
   "source": [
    "label"
   ],
   "metadata": {
    "collapsed": false,
    "ExecuteTime": {
     "end_time": "2025-02-25T15:41:27.514785Z",
     "start_time": "2025-02-25T15:41:27.508716Z"
    }
   },
   "outputs": [
    {
     "data": {
      "text/plain": [
       "9"
      ]
     },
     "execution_count": 28,
     "metadata": {},
     "output_type": "execute_result"
    }
   ],
   "execution_count": 28
  },
  {
   "cell_type": "code",
   "source": [
    "type(img) #tensor中文是 张量,和numpy的ndarray类似"
   ],
   "metadata": {
    "collapsed": false,
    "ExecuteTime": {
     "end_time": "2025-02-25T15:41:27.633252Z",
     "start_time": "2025-02-25T15:41:27.628097Z"
    }
   },
   "outputs": [
    {
     "data": {
      "text/plain": [
       "PIL.Image.Image"
      ]
     },
     "execution_count": 29,
     "metadata": {},
     "output_type": "execute_result"
    }
   ],
   "execution_count": 29
  },
  {
   "cell_type": "code",
   "source": [
    "label"
   ],
   "metadata": {
    "collapsed": false,
    "ExecuteTime": {
     "end_time": "2025-02-25T15:41:27.663554Z",
     "start_time": "2025-02-25T15:41:27.657935Z"
    }
   },
   "outputs": [
    {
     "data": {
      "text/plain": [
       "9"
      ]
     },
     "execution_count": 30,
     "metadata": {},
     "output_type": "execute_result"
    }
   ],
   "execution_count": 30
  },
  {
   "cell_type": "code",
   "source": [
    "# 显示图片，这里需要把transforms.ToTensor(),进行归一化注释掉，否则是不行的\n",
    "def show_img_content(img):\n",
    "    from PIL import Image\n",
    "\n",
    "    # 打开一个图像文件\n",
    "    # img = Image.open(img)\n",
    "\n",
    "\n",
    "    print(\"图像大小:\", img.size)\n",
    "    print(\"图像模式:\", img.mode)\n",
    "\n",
    "\n",
    "    # 如果图像是单通道的，比如灰度图，你可以这样获取像素值列表：\n",
    "    if img.mode == 'L':\n",
    "        pixel_values = list(img.getdata())\n",
    "        print(pixel_values)\n",
    "show_img_content(img) #这里必须把上面的 transforms.ToTensor(), # 转换为tensor，进行归一化注释掉，否则是不行的"
   ],
   "metadata": {
    "collapsed": false,
    "ExecuteTime": {
     "end_time": "2025-02-25T15:41:27.734009Z",
     "start_time": "2025-02-25T15:41:27.727387Z"
    }
   },
   "outputs": [
    {
     "name": "stdout",
     "output_type": "stream",
     "text": [
      "图像大小: (28, 28)\n",
      "图像模式: L\n",
      "[0, 0, 0, 0, 0, 0, 0, 0, 0, 0, 0, 0, 0, 0, 0, 0, 0, 0, 0, 0, 0, 0, 0, 0, 0, 0, 0, 0, 0, 0, 0, 0, 0, 0, 0, 0, 0, 0, 0, 0, 0, 0, 0, 0, 0, 0, 0, 0, 0, 0, 0, 0, 0, 0, 0, 0, 0, 0, 0, 0, 0, 0, 0, 0, 0, 0, 0, 0, 0, 0, 0, 0, 0, 0, 0, 0, 0, 0, 0, 0, 0, 0, 0, 0, 0, 0, 0, 0, 0, 0, 0, 0, 0, 0, 0, 0, 1, 0, 0, 13, 73, 0, 0, 1, 4, 0, 0, 0, 0, 1, 1, 0, 0, 0, 0, 0, 0, 0, 0, 0, 0, 0, 0, 0, 3, 0, 36, 136, 127, 62, 54, 0, 0, 0, 1, 3, 4, 0, 0, 3, 0, 0, 0, 0, 0, 0, 0, 0, 0, 0, 0, 0, 6, 0, 102, 204, 176, 134, 144, 123, 23, 0, 0, 0, 0, 12, 10, 0, 0, 0, 0, 0, 0, 0, 0, 0, 0, 0, 0, 0, 0, 0, 155, 236, 207, 178, 107, 156, 161, 109, 64, 23, 77, 130, 72, 15, 0, 0, 0, 0, 0, 0, 0, 0, 0, 0, 0, 1, 0, 69, 207, 223, 218, 216, 216, 163, 127, 121, 122, 146, 141, 88, 172, 66, 0, 0, 0, 0, 0, 0, 0, 0, 0, 1, 1, 1, 0, 200, 232, 232, 233, 229, 223, 223, 215, 213, 164, 127, 123, 196, 229, 0, 0, 0, 0, 0, 0, 0, 0, 0, 0, 0, 0, 0, 0, 183, 225, 216, 223, 228, 235, 227, 224, 222, 224, 221, 223, 245, 173, 0, 0, 0, 0, 0, 0, 0, 0, 0, 0, 0, 0, 0, 0, 193, 228, 218, 213, 198, 180, 212, 210, 211, 213, 223, 220, 243, 202, 0, 0, 0, 0, 0, 0, 0, 0, 0, 0, 1, 3, 0, 12, 219, 220, 212, 218, 192, 169, 227, 208, 218, 224, 212, 226, 197, 209, 52, 0, 0, 0, 0, 0, 0, 0, 0, 0, 0, 6, 0, 99, 244, 222, 220, 218, 203, 198, 221, 215, 213, 222, 220, 245, 119, 167, 56, 0, 0, 0, 0, 0, 0, 0, 0, 0, 4, 0, 0, 55, 236, 228, 230, 228, 240, 232, 213, 218, 223, 234, 217, 217, 209, 92, 0, 0, 0, 1, 4, 6, 7, 2, 0, 0, 0, 0, 0, 237, 226, 217, 223, 222, 219, 222, 221, 216, 223, 229, 215, 218, 255, 77, 0, 0, 3, 0, 0, 0, 0, 0, 0, 0, 62, 145, 204, 228, 207, 213, 221, 218, 208, 211, 218, 224, 223, 219, 215, 224, 244, 159, 0, 0, 0, 0, 0, 18, 44, 82, 107, 189, 228, 220, 222, 217, 226, 200, 205, 211, 230, 224, 234, 176, 188, 250, 248, 233, 238, 215, 0, 0, 57, 187, 208, 224, 221, 224, 208, 204, 214, 208, 209, 200, 159, 245, 193, 206, 223, 255, 255, 221, 234, 221, 211, 220, 232, 246, 0, 3, 202, 228, 224, 221, 211, 211, 214, 205, 205, 205, 220, 240, 80, 150, 255, 229, 221, 188, 154, 191, 210, 204, 209, 222, 228, 225, 0, 98, 233, 198, 210, 222, 229, 229, 234, 249, 220, 194, 215, 217, 241, 65, 73, 106, 117, 168, 219, 221, 215, 217, 223, 223, 224, 229, 29, 75, 204, 212, 204, 193, 205, 211, 225, 216, 185, 197, 206, 198, 213, 240, 195, 227, 245, 239, 223, 218, 212, 209, 222, 220, 221, 230, 67, 48, 203, 183, 194, 213, 197, 185, 190, 194, 192, 202, 214, 219, 221, 220, 236, 225, 216, 199, 206, 186, 181, 177, 172, 181, 205, 206, 115, 0, 122, 219, 193, 179, 171, 183, 196, 204, 210, 213, 207, 211, 210, 200, 196, 194, 191, 195, 191, 198, 192, 176, 156, 167, 177, 210, 92, 0, 0, 74, 189, 212, 191, 175, 172, 175, 181, 185, 188, 189, 188, 193, 198, 204, 209, 210, 210, 211, 188, 188, 194, 192, 216, 170, 0, 2, 0, 0, 0, 66, 200, 222, 237, 239, 242, 246, 243, 244, 221, 220, 193, 191, 179, 182, 182, 181, 176, 166, 168, 99, 58, 0, 0, 0, 0, 0, 0, 0, 0, 0, 40, 61, 44, 72, 41, 35, 0, 0, 0, 0, 0, 0, 0, 0, 0, 0, 0, 0, 0, 0, 0, 0, 0, 0, 0, 0, 0, 0, 0, 0, 0, 0, 0, 0, 0, 0, 0, 0, 0, 0, 0, 0, 0, 0, 0, 0, 0, 0, 0, 0, 0, 0, 0, 0, 0, 0, 0, 0, 0, 0, 0, 0, 0, 0, 0, 0, 0, 0, 0, 0, 0, 0, 0, 0, 0, 0, 0]\n"
     ]
    }
   ],
   "execution_count": 31
  },
  {
   "cell_type": "code",
   "source": [
    "#这个代码必须是注释了上面的 transforms.ToTensor()才能够运行的\n",
    "def show_single_image(img_arr):\n",
    "    plt.imshow(img_arr, cmap=\"binary\") # 显示图片\n",
    "    plt.colorbar() # 显示颜色条\n",
    "    plt.show()\n",
    "\n",
    "\n",
    "show_single_image(img)"
   ],
   "metadata": {
    "collapsed": false,
    "ExecuteTime": {
     "end_time": "2025-02-25T15:41:27.964810Z",
     "start_time": "2025-02-25T15:41:27.790453Z"
    }
   },
   "outputs": [
    {
     "data": {
      "text/plain": [
       "<Figure size 640x480 with 2 Axes>"
      ],
      "image/png": "[encoded data removed]"
     },
     "metadata": {},
     "output_type": "display_data"
    }
   ],
   "execution_count": 32
  },
  {
   "cell_type": "code",
   "metadata": {
    "ExecuteTime": {
     "end_time": "2025-02-25T15:45:33.231735Z",
     "start_time": "2025-02-25T15:45:32.436387Z"
    }
   },
   "source": [
    "def show_imgs(n_rows, n_cols, train_ds, class_names):\n",
    "    assert n_rows * n_cols < len(train_ds)  #确保打印的图片小于总样本数\n",
    "    plt.figure(figsize = (n_cols * 1.4, n_rows * 1.6))  #宽1.4高1.6，宽，高\n",
    "    for row in range(n_rows):\n",
    "        for col in range(n_cols):\n",
    "            index = n_cols * row + col  # 计算索引，从0开始\n",
    "            plt.subplot(n_rows, n_cols, index+1)#因为从1开始\n",
    "            img_arr, label = train_ds[index]\n",
    "            img_arr = np.transpose(img_arr, (1, 2, 0))  # 通道换到最后一维\n",
    "            plt.imshow(img_arr, cmap=\"binary\",\n",
    "                       interpolation = 'nearest')#interpolation='nearest'是临近插值\n",
    "            plt.axis('off')#去除坐标系\n",
    "            plt.title(class_names[label]) # 显示类别名称\n",
    "    plt.show()\n",
    "    \n",
    "    \n",
    "\n",
    "#已知的图片类别\n",
    "# lables在这个路径https://github.com/zalandoresearch/fashion-mnist\n",
    "class_names = ['T-shirt', 'Trouser', 'Pullover', 'Dress',\n",
    "               'Coat', 'Sandal', 'Shirt', 'Sneaker',\n",
    "               'Bag', 'Ankle boot'] #0-9分别代表的类别\n",
    "#只是打印了前15个样本\n",
    "show_imgs(3, 5, train_ds, class_names)\n"
   ],
   "outputs": [
    {
     "data": {
      "text/plain": [
       "<Figure size 700x480 with 15 Axes>"
      ],
      "image/png": "[encoded data removed]"
     },
     "metadata": {},
     "output_type": "display_data"
    }
   ],
   "execution_count": 40
  },
  {
   "cell_type": "code",
   "metadata": {
    "ExecuteTime": {
     "end_time": "2025-02-25T15:45:42.201087Z",
     "start_time": "2025-02-25T15:45:42.195714Z"
    }
   },
   "source": [
    "# 从数据集到dataloader\n",
    "train_loader = torch.utils.data.DataLoader(train_ds, batch_size=32, shuffle=True) #batch_size分批，shuffle洗牌\n",
    "val_loader = torch.utils.data.DataLoader(test_ds, batch_size=32, shuffle=False)"
   ],
   "outputs": [],
   "execution_count": 41
  },
  {
   "cell_type": "markdown",
   "source": [
    "在PyTorch中，`DataLoader`是一个迭代器，它封装了数据的加载和预处理过程，使得在训练机器学习模型时可以方便地批量加载数据。`DataLoader`主要负责以下几个方面：\n",
    "\n",
    "1. **批量加载数据**：`DataLoader`可以将数据集（Dataset）切分为更小的批次（batch），每次迭代提供一小批量数据，而不是单个数据点。这有助于模型学习数据中的统计依赖性，并且可以更高效地利用GPU等硬件的并行计算能力。\n",
    "\n",
    "2. **数据打乱**：默认情况下，`DataLoader`会在每个epoch（训练周期）开始时打乱数据的顺序。这有助于模型训练时避免陷入局部最优解，并且可以提高模型的泛化能力。\n",
    "\n",
    "3. **多线程数据加载**：`DataLoader`支持多线程（通过参数`num_workers`）来并行地加载数据，这可以显著减少训练过程中的等待时间，尤其是在处理大规模数据集时。\n",
    "\n",
    "4. **数据预处理**：`DataLoader`可以与`transforms`结合使用，对加载的数据进行预处理，如归一化、标准化、数据增强等操作。\n",
    "\n",
    "5. **内存管理**：`DataLoader`负责管理数据的内存使用，确保在训练过程中不会耗尽内存资源。\n",
    "\n",
    "6. **易用性**：`DataLoader`提供了一个简单的接口，可以很容易地集成到训练循环中。\n",
    "\n"
   ],
   "metadata": {
    "collapsed": false
   }
  },
  {
   "cell_type": "markdown",
   "metadata": {},
   "source": [
    "## 定义模型"
   ]
  },
  {
   "cell_type": "code",
   "metadata": {
    "ExecuteTime": {
     "end_time": "2025-02-25T15:45:42.329456Z",
     "start_time": "2025-02-25T15:45:42.321623Z"
    }
   },
   "source": [
    "class NeuralNetwork(nn.Module):\n",
    "    def __init__(self):\n",
    "        super().__init__() # 继承父类的初始化方法，子类有父类的属性\n",
    "        self.flatten = nn.Flatten()  # 展平层\n",
    "        self.linear_relu_stack = nn.Sequential(\n",
    "            nn.Linear(784, 300),  # in_features=784, out_features=300, 784是输入特征数，300是输出特征数\n",
    "            nn.ReLU(), # 激活函数\n",
    "            nn.Linear(300, 100),#隐藏层神经元数100\n",
    "            nn.ReLU(), # 激活函数\n",
    "            nn.Linear(100, 10),#输出层神经元数10\n",
    "        )\n",
    "\n",
    "    def forward(self, x): # 前向计算\n",
    "        # x.shape [batch size, 1, 28, 28]\n",
    "        x = self.flatten(x)  \n",
    "        # 展平后 x.shape [batch size, 784]\n",
    "        logits = self.linear_relu_stack(x)\n",
    "        # logits.shape [batch size, 10]\n",
    "        return logits #没有经过softmax,称为logits\n",
    "    \n",
    "model = NeuralNetwork()"
   ],
   "outputs": [],
   "execution_count": 42
  },
  {
   "cell_type": "code",
   "metadata": {
    "ExecuteTime": {
     "end_time": "2025-02-25T15:45:42.348732Z",
     "start_time": "2025-02-25T15:45:42.342530Z"
    }
   },
   "source": [
    "# 看看网络结构\n",
    "model"
   ],
   "outputs": [
    {
     "data": {
      "text/plain": [
       "NeuralNetwork(\n",
       "  (flatten): Flatten(start_dim=1, end_dim=-1)\n",
       "  (linear_relu_stack): Sequential(\n",
       "    (0): Linear(in_features=784, out_features=300, bias=True)\n",
       "    (1): ReLU()\n",
       "    (2): Linear(in_features=300, out_features=100, bias=True)\n",
       "    (3): ReLU()\n",
       "    (4): Linear(in_features=100, out_features=10, bias=True)\n",
       "  )\n",
       ")"
      ]
     },
     "execution_count": 43,
     "metadata": {},
     "output_type": "execute_result"
    }
   ],
   "execution_count": 43
  },
  {
   "cell_type": "code",
   "source": [
    "784*300+300+300*100+100+100*10+10"
   ],
   "metadata": {
    "collapsed": false,
    "ExecuteTime": {
     "end_time": "2025-02-25T15:45:42.417581Z",
     "start_time": "2025-02-25T15:45:42.411294Z"
    }
   },
   "outputs": [
    {
     "data": {
      "text/plain": [
       "266610"
      ]
     },
     "execution_count": 44,
     "metadata": {},
     "output_type": "execute_result"
    }
   ],
   "execution_count": 44
  },
  {
   "cell_type": "code",
   "metadata": {
    "ExecuteTime": {
     "end_time": "2025-02-25T15:45:42.440513Z",
     "start_time": "2025-02-25T15:45:42.433732Z"
    }
   },
   "source": [
    "for name, param in model.named_parameters(): # 打印模型参数\n",
    "      print(name, param.shape)"
   ],
   "outputs": [
    {
     "name": "stdout",
     "output_type": "stream",
     "text": [
      "linear_relu_stack.0.weight torch.Size([300, 784])\n",
      "linear_relu_stack.0.bias torch.Size([300])\n",
      "linear_relu_stack.2.weight torch.Size([100, 300])\n",
      "linear_relu_stack.2.bias torch.Size([100])\n",
      "linear_relu_stack.4.weight torch.Size([10, 100])\n",
      "linear_relu_stack.4.bias torch.Size([10])\n"
     ]
    }
   ],
   "execution_count": 45
  },
  {
   "cell_type": "code",
   "metadata": {
    "ExecuteTime": {
     "end_time": "2025-02-25T15:45:42.539206Z",
     "start_time": "2025-02-25T15:45:42.510526Z"
    }
   },
   "source": [
    "# 看看模型参数\n",
    "list(model.parameters())  # 这种方法拿到模型的所有可学习参数,requires_grad=True\n"
   ],
   "outputs": [
    {
     "data": {
      "text/plain": [
       "[Parameter containing:\n",
       " tensor([[ 0.0242, -0.0218,  0.0344,  ...,  0.0222, -0.0170,  0.0135],\n",
       "         [-0.0357,  0.0259, -0.0301,  ...,  0.0203, -0.0070, -0.0075],\n",
       "         [ 0.0176, -0.0125,  0.0112,  ..., -0.0260,  0.0250,  0.0058],\n",
       "         ...,\n",
       "         [ 0.0117, -0.0124, -0.0135,  ..., -0.0295, -0.0020, -0.0080],\n",
       "         [ 0.0292,  0.0198, -0.0154,  ...,  0.0174,  0.0246,  0.0022],\n",
       "         [ 0.0206, -0.0006,  0.0112,  ..., -0.0302, -0.0265, -0.0090]],\n",
       "        requires_grad=True),\n",
       " Parameter containing:\n",
       " tensor([-3.5370e-02,  2.9772e-02, -6.7854e-03, -2.1672e-02, -3.4746e-02,\n",
       "         -2.3725e-02, -2.1409e-02, -3.1503e-02,  1.1405e-02, -7.3524e-03,\n",
       "         -2.7979e-02, -8.4015e-03, -2.5097e-02,  3.3520e-02, -3.2565e-02,\n",
       "         -1.0813e-02, -1.4766e-02,  2.2390e-02, -8.7864e-03,  1.1155e-02,\n",
       "         -1.5961e-02, -1.7762e-02,  5.5499e-03,  1.2505e-02, -1.7416e-02,\n",
       "          9.7545e-03, -4.2967e-05,  9.8293e-03,  3.4142e-02,  3.1664e-02,\n",
       "         -3.4830e-02,  2.2349e-02, -4.4650e-03,  4.0551e-03,  1.0069e-02,\n",
       "         -1.8257e-02,  2.0048e-02,  1.3605e-02, -3.5248e-02, -2.9638e-03,\n",
       "         -1.2392e-02,  2.7045e-02,  2.8470e-02, -7.3843e-05,  2.7582e-03,\n",
       "          2.7122e-02, -2.0147e-02, -1.1217e-02, -1.2242e-02, -2.9818e-02,\n",
       "         -2.7414e-02,  3.4907e-02,  3.2412e-02,  2.7067e-02,  3.4308e-02,\n",
       "          1.9556e-02, -3.4114e-02, -1.5681e-02, -2.5378e-02, -1.8982e-02,\n",
       "          1.8642e-02,  1.9927e-02, -7.0416e-04, -2.5443e-02, -2.3017e-02,\n",
       "          2.8500e-02, -1.1822e-02, -9.9642e-03,  2.8824e-02, -1.7805e-02,\n",
       "         -3.5520e-02,  6.2808e-03,  2.0306e-02, -1.1785e-02,  7.4269e-03,\n",
       "         -3.4826e-02,  8.2477e-03,  1.1611e-02,  2.0115e-02,  9.2261e-04,\n",
       "          3.4497e-02, -2.1558e-02, -1.0002e-02,  2.1380e-03,  2.1656e-02,\n",
       "         -3.1935e-03, -5.4049e-03,  1.7134e-02, -1.6539e-02,  3.1849e-02,\n",
       "         -6.2702e-03, -3.4029e-02, -1.9390e-02, -2.9394e-02,  5.4919e-03,\n",
       "         -5.5506e-03,  2.7282e-02,  1.6048e-02,  2.6572e-02, -2.6394e-02,\n",
       "          6.4381e-03,  3.2717e-02,  2.9065e-02,  1.9638e-02, -1.9123e-02,\n",
       "         -1.4904e-02,  1.7764e-02, -1.3099e-02,  5.4867e-03,  6.4057e-03,\n",
       "         -1.2193e-02, -1.8311e-02, -1.2193e-02,  2.4960e-02, -2.7594e-02,\n",
       "          3.3433e-02,  3.0360e-02,  8.4824e-03, -2.4001e-03,  1.9847e-02,\n",
       "          1.2479e-02,  2.0983e-02, -1.8254e-02, -2.6736e-02,  2.2072e-02,\n",
       "          2.6616e-02, -1.9991e-02, -9.4874e-03,  2.7736e-02, -2.8907e-02,\n",
       "         -8.5135e-03,  4.8305e-04,  1.6782e-02,  2.6254e-02,  4.9814e-03,\n",
       "          1.5192e-02, -2.1815e-02,  9.5378e-04,  1.1898e-02, -3.7573e-03,\n",
       "         -2.4085e-02,  1.1148e-02,  2.4191e-02, -3.2445e-02, -7.5646e-03,\n",
       "         -2.3529e-02,  4.1912e-03, -2.4747e-02,  1.0494e-02, -9.6690e-03,\n",
       "          2.3830e-02, -1.9982e-02, -3.2412e-02,  2.4928e-02, -2.9013e-02,\n",
       "         -3.2188e-02,  2.9478e-02,  1.9996e-02,  6.0650e-03,  3.4650e-02,\n",
       "         -1.9346e-02,  3.1185e-02, -1.1112e-02, -1.7411e-02, -3.3070e-02,\n",
       "         -2.0441e-02,  1.9855e-02, -3.0929e-02, -1.5059e-02, -2.3578e-03,\n",
       "         -2.8452e-02, -4.2537e-03,  1.9574e-02,  1.6756e-03, -2.2443e-02,\n",
       "         -3.4327e-02,  2.5250e-02, -1.1326e-03, -4.6641e-03,  6.5555e-03,\n",
       "         -1.9269e-02,  1.6977e-02, -7.1892e-03, -3.1713e-02, -2.0756e-02,\n",
       "         -2.5773e-03, -1.1078e-02, -2.5770e-03,  5.7121e-03, -2.6859e-02,\n",
       "         -1.7403e-02, -2.1806e-02, -2.0753e-03, -1.8625e-02,  1.0954e-02,\n",
       "          1.4479e-03,  1.0469e-02, -1.1413e-02,  5.2014e-04,  2.5399e-02,\n",
       "         -2.9679e-02,  2.3392e-02, -8.3611e-03, -1.6703e-02, -1.3253e-02,\n",
       "          4.5116e-03, -2.2202e-02,  3.1743e-02, -2.7279e-02, -2.7205e-02,\n",
       "          2.7321e-02, -3.2495e-04, -2.8756e-02, -1.2419e-02,  4.8981e-03,\n",
       "          1.3850e-02, -5.5068e-03, -2.1937e-02, -6.4817e-03,  2.0671e-02,\n",
       "         -8.8941e-03,  3.2471e-02,  1.4578e-02, -1.3314e-02, -2.3994e-02,\n",
       "          2.5496e-02,  1.7188e-02,  3.4785e-04, -1.9481e-02,  8.6012e-03,\n",
       "         -5.8615e-03,  1.3470e-02,  2.1086e-02, -2.2890e-02,  2.0374e-02,\n",
       "          2.4321e-02,  1.4192e-02,  3.1044e-02, -3.4189e-02,  3.0420e-02,\n",
       "         -1.1961e-02, -1.4208e-02,  5.6269e-03,  3.0687e-02,  1.0412e-02,\n",
       "         -3.5482e-02, -3.1913e-02, -2.0822e-02, -3.5133e-02, -8.8200e-04,\n",
       "         -1.5389e-02, -1.5520e-02, -1.4822e-02,  2.4511e-02,  2.4563e-02,\n",
       "         -9.9610e-03, -2.8747e-02,  1.0093e-02, -2.4589e-02,  2.9499e-02,\n",
       "          2.6716e-02,  9.0978e-04,  4.5489e-03, -1.3019e-02,  7.6562e-03,\n",
       "          4.7971e-03,  3.5453e-02,  3.2321e-02,  1.2541e-02, -3.0127e-02,\n",
       "          3.1700e-02, -1.6657e-03,  8.5490e-03, -5.1536e-03, -2.9874e-02,\n",
       "         -2.5155e-02,  2.2455e-02,  1.3867e-02, -2.5200e-02,  5.7309e-03,\n",
       "          2.3115e-02,  1.7800e-02, -8.3430e-03,  1.2373e-02,  1.8076e-02,\n",
       "         -3.4720e-02, -5.2791e-03, -2.6794e-02, -2.3779e-02, -6.0884e-03,\n",
       "          5.3257e-03,  7.4207e-03,  2.3290e-02, -1.9986e-02,  9.4280e-03,\n",
       "          6.6240e-03, -2.1371e-02,  1.1320e-03,  2.5810e-03,  1.7438e-02],\n",
       "        requires_grad=True),\n",
       " Parameter containing:\n",
       " tensor([[ 0.0083, -0.0006, -0.0383,  ...,  0.0158,  0.0045, -0.0427],\n",
       "         [-0.0464,  0.0043, -0.0364,  ..., -0.0289, -0.0252, -0.0373],\n",
       "         [ 0.0429,  0.0002, -0.0298,  ...,  0.0334, -0.0156,  0.0550],\n",
       "         ...,\n",
       "         [ 0.0234, -0.0502,  0.0465,  ..., -0.0487,  0.0220,  0.0376],\n",
       "         [ 0.0223,  0.0235, -0.0440,  ..., -0.0497,  0.0314,  0.0445],\n",
       "         [ 0.0082,  0.0488, -0.0030,  ...,  0.0055,  0.0164, -0.0458]],\n",
       "        requires_grad=True),\n",
       " Parameter containing:\n",
       " tensor([-0.0371,  0.0219,  0.0507,  0.0142,  0.0316,  0.0256,  0.0237,  0.0288,\n",
       "          0.0563,  0.0142, -0.0239, -0.0123,  0.0483,  0.0151, -0.0308, -0.0416,\n",
       "         -0.0178,  0.0291, -0.0078, -0.0323, -0.0173, -0.0044, -0.0054, -0.0405,\n",
       "          0.0170, -0.0141, -0.0284, -0.0468,  0.0207,  0.0399,  0.0533, -0.0097,\n",
       "         -0.0360, -0.0531,  0.0282, -0.0564, -0.0472,  0.0453, -0.0064,  0.0048,\n",
       "         -0.0547,  0.0563, -0.0510, -0.0098, -0.0286,  0.0532,  0.0153,  0.0114,\n",
       "         -0.0411,  0.0314,  0.0015, -0.0319,  0.0335,  0.0378,  0.0384,  0.0340,\n",
       "         -0.0067,  0.0436,  0.0093,  0.0339,  0.0078,  0.0240,  0.0489, -0.0488,\n",
       "         -0.0259, -0.0531, -0.0057, -0.0394, -0.0480, -0.0335,  0.0269,  0.0303,\n",
       "         -0.0481,  0.0291,  0.0103, -0.0117,  0.0237, -0.0090,  0.0103, -0.0208,\n",
       "          0.0566,  0.0082, -0.0231,  0.0021, -0.0006,  0.0551, -0.0353, -0.0058,\n",
       "         -0.0131,  0.0402,  0.0166, -0.0020, -0.0411,  0.0532,  0.0103,  0.0168,\n",
       "         -0.0279, -0.0233, -0.0571, -0.0107], requires_grad=True),\n",
       " Parameter containing:\n",
       " tensor([[ 9.2728e-02,  6.7423e-02, -8.8966e-03, -3.1287e-02,  4.3157e-02,\n",
       "          -7.1507e-02, -1.6418e-02, -3.5287e-02, -1.0734e-02, -7.5620e-02,\n",
       "           6.6269e-02, -6.4546e-02,  3.0702e-02, -6.4818e-03,  8.0608e-02,\n",
       "          -1.9461e-02, -2.1235e-02, -5.9128e-02,  8.2499e-02, -7.3884e-02,\n",
       "          -8.1222e-02,  1.1691e-04,  2.6428e-02, -5.6373e-02, -4.8922e-03,\n",
       "           5.8535e-02,  8.5162e-02,  1.5547e-02,  1.0449e-02,  6.0624e-02,\n",
       "          -9.8548e-02,  2.6557e-02,  8.0580e-02, -6.7324e-02,  8.9435e-02,\n",
       "           6.7778e-03,  1.4716e-02,  3.0932e-02,  1.8360e-02, -7.3175e-02,\n",
       "           8.2749e-03,  5.1477e-02,  3.5175e-02, -9.2086e-02,  5.5861e-02,\n",
       "           2.5405e-02, -2.2185e-02, -8.1767e-02, -6.4158e-02,  1.4278e-02,\n",
       "          -2.1199e-02,  3.7509e-02, -9.1123e-02, -4.1339e-02,  9.3559e-02,\n",
       "           3.4658e-02,  4.1394e-02, -1.4137e-02, -8.1354e-02,  8.1708e-02,\n",
       "          -7.4249e-02,  6.4988e-02,  8.8536e-02, -5.5656e-02, -9.3574e-02,\n",
       "           4.3175e-02,  5.1126e-02,  8.6811e-03,  9.7328e-02, -2.2146e-02,\n",
       "           8.8052e-02, -7.7049e-02, -3.9358e-02, -8.9733e-02, -8.0699e-02,\n",
       "          -1.2508e-02,  1.1296e-02, -9.3094e-02, -1.9303e-02,  8.1046e-02,\n",
       "           3.8087e-02,  7.8984e-02, -6.5468e-02, -6.9976e-02,  8.9662e-02,\n",
       "          -8.9283e-02,  6.7066e-02,  9.4440e-02, -2.1484e-04,  8.9895e-02,\n",
       "          -6.8483e-03, -3.5254e-02, -6.8181e-02,  7.6468e-02,  5.6297e-02,\n",
       "          -9.6841e-03, -1.9943e-02, -3.0431e-02, -2.5137e-03, -5.5773e-02],\n",
       "         [-4.4319e-02, -6.9650e-02,  9.4539e-02, -1.5839e-02,  7.4159e-02,\n",
       "          -9.9506e-02,  5.9713e-02,  3.3249e-02, -3.3046e-02,  2.6358e-02,\n",
       "           5.8219e-02,  4.6444e-02,  4.8706e-02,  4.2719e-02, -5.8652e-02,\n",
       "           5.5908e-02, -6.8858e-02,  9.8180e-02, -6.1796e-02, -5.4271e-02,\n",
       "           1.8313e-02,  9.0531e-02,  7.0202e-03,  1.5748e-02,  4.1250e-02,\n",
       "          -8.1870e-02, -6.7588e-04,  3.6331e-02,  5.3793e-02, -2.9051e-02,\n",
       "           6.5937e-02, -5.8074e-02,  3.3194e-02,  3.2114e-02, -5.5307e-02,\n",
       "           8.5705e-02,  7.7160e-02,  9.7827e-02, -4.4382e-02,  6.9900e-02,\n",
       "          -7.1380e-02, -7.5530e-02, -3.2164e-02, -7.3020e-02,  2.1601e-02,\n",
       "          -3.3151e-02, -5.1340e-02,  6.6530e-03, -8.4228e-03,  7.5876e-02,\n",
       "           4.7286e-02,  2.7779e-02,  2.5011e-02, -1.8001e-02,  2.8212e-02,\n",
       "          -7.8509e-02, -8.5062e-02,  4.2862e-02,  5.8695e-03, -9.7002e-02,\n",
       "          -9.7432e-02,  6.3554e-02, -4.8109e-02, -2.0056e-02, -2.7729e-02,\n",
       "           8.6605e-02,  2.6679e-02, -6.4887e-02, -1.6045e-02, -6.0252e-02,\n",
       "           5.4559e-02,  6.3617e-02,  2.1801e-02,  7.1044e-02, -7.5727e-02,\n",
       "           1.5842e-02, -4.3031e-02, -2.6151e-02,  8.3719e-02,  9.7462e-02,\n",
       "           6.2555e-02,  6.1407e-02,  4.3768e-02, -3.5419e-02, -3.8000e-02,\n",
       "           2.7647e-02, -3.6712e-02,  7.2557e-02,  6.8762e-02,  9.1359e-02,\n",
       "          -8.8876e-02, -6.4153e-02,  8.9157e-02,  3.0403e-02,  3.8466e-02,\n",
       "          -8.7553e-02,  6.6967e-02, -9.9057e-02,  3.2535e-02,  7.5042e-03],\n",
       "         [ 1.7178e-02,  7.6868e-02,  5.6546e-02, -9.9907e-02,  1.1258e-02,\n",
       "          -3.9421e-02, -8.1211e-02, -3.8693e-02,  3.8947e-02,  5.5713e-02,\n",
       "          -7.8071e-02,  6.9930e-02,  7.0196e-02, -2.1063e-02, -7.6283e-02,\n",
       "          -1.0177e-02,  1.3519e-02, -9.8825e-03,  9.1513e-02,  1.0363e-02,\n",
       "          -4.4180e-02, -4.2707e-02, -1.8383e-02,  1.2676e-02,  8.5104e-02,\n",
       "          -7.9586e-02,  2.5948e-02, -1.8067e-02, -4.2841e-02, -5.6359e-02,\n",
       "          -5.9487e-02,  2.3852e-02,  2.8990e-02,  1.9848e-02, -3.0808e-02,\n",
       "           6.2689e-02,  1.3925e-02,  5.5065e-02, -8.3953e-02,  4.9355e-02,\n",
       "          -9.9103e-02, -6.5038e-02, -5.5959e-02,  9.1337e-02,  2.8076e-02,\n",
       "          -9.5204e-02,  8.1554e-02, -2.9381e-02, -2.1505e-02, -6.8556e-02,\n",
       "           5.8417e-02, -4.0080e-02, -2.1737e-02,  9.9902e-02,  6.1287e-02,\n",
       "           5.7638e-02,  5.8584e-02,  2.9667e-02,  8.2525e-02, -6.2635e-02,\n",
       "          -8.5046e-02, -5.8883e-02,  3.5834e-02, -6.4859e-02, -7.2613e-03,\n",
       "           6.5371e-02, -4.7100e-02,  4.9120e-02, -8.0401e-02,  1.6904e-02,\n",
       "          -4.9039e-03,  8.7678e-03,  2.5243e-02,  1.0044e-02, -6.3682e-02,\n",
       "          -5.7936e-03, -4.3214e-02,  3.9307e-02, -1.6651e-02, -9.8383e-02,\n",
       "           6.5752e-02,  6.7168e-02, -6.9087e-02, -2.9103e-02, -9.0553e-02,\n",
       "           4.8626e-02, -5.6490e-03,  3.0154e-02,  9.2071e-02, -8.1360e-02,\n",
       "           3.8924e-02, -1.1200e-02, -3.0821e-02,  4.6971e-02,  1.0807e-03,\n",
       "          -1.2300e-02, -5.1049e-02,  8.4414e-02,  4.8138e-03,  8.8520e-02],\n",
       "         [ 1.7846e-02, -7.1514e-02, -5.9068e-02, -6.2896e-02,  1.9185e-03,\n",
       "          -4.3313e-03,  6.4460e-02,  4.3910e-02,  7.6325e-02,  1.1133e-02,\n",
       "          -1.7748e-02, -5.0591e-02, -2.4233e-02, -5.6824e-02,  6.2616e-03,\n",
       "          -8.3541e-02, -6.2707e-03, -1.6567e-02,  2.3395e-02, -5.3131e-02,\n",
       "          -9.0908e-02,  9.7513e-03,  7.7852e-02, -5.0156e-03,  7.5712e-02,\n",
       "           9.1538e-02, -1.0581e-02,  6.7276e-02,  7.2080e-02,  8.0862e-02,\n",
       "           6.8718e-02, -1.0377e-02, -5.2646e-02, -9.5053e-02, -1.1173e-02,\n",
       "          -9.8077e-02, -9.6939e-02, -8.7283e-02, -2.4225e-03, -7.5672e-03,\n",
       "          -8.3888e-02,  1.0004e-02, -3.1208e-02,  3.3289e-02, -7.7798e-02,\n",
       "          -2.3440e-02,  2.2584e-02, -1.6761e-02,  6.5078e-02,  1.8694e-02,\n",
       "          -6.4198e-02, -9.0515e-02, -1.1643e-03,  3.1365e-02,  6.9357e-02,\n",
       "           4.9985e-02,  3.4068e-02,  5.7878e-02,  6.1113e-02, -8.6062e-02,\n",
       "          -9.3121e-02,  6.7963e-02,  3.1421e-02,  1.2172e-02,  8.9021e-02,\n",
       "           8.5333e-02, -2.4176e-02, -4.1868e-02,  6.1841e-02, -5.3399e-03,\n",
       "           5.8953e-02,  4.6706e-02, -1.0893e-02,  5.8520e-02,  8.3034e-02,\n",
       "          -8.5216e-02, -4.2017e-02,  6.4855e-02, -2.3768e-02,  6.8319e-02,\n",
       "          -8.3326e-02, -6.3568e-02,  6.1711e-02,  1.4739e-03,  8.1964e-03,\n",
       "           6.0707e-02,  5.0151e-02,  5.2410e-02,  7.8499e-02,  8.5106e-02,\n",
       "           1.1139e-02, -8.0179e-02, -4.5649e-02, -8.2150e-02,  7.7081e-02,\n",
       "           6.8334e-02,  6.7449e-02,  1.6053e-02,  6.1019e-02, -4.5011e-02],\n",
       "         [-9.5535e-02, -5.4727e-02, -3.1733e-02, -2.1319e-02,  3.1123e-02,\n",
       "           5.5474e-02, -2.7282e-02,  9.3964e-02,  8.4857e-02, -9.3762e-02,\n",
       "          -5.2576e-02,  3.3751e-02,  1.3473e-02, -9.6156e-02, -6.4638e-02,\n",
       "          -4.6040e-03,  2.5019e-02, -3.4916e-02, -1.5883e-03,  5.0498e-03,\n",
       "           7.0464e-02, -7.3815e-02, -6.6674e-02, -5.5503e-02, -4.0153e-02,\n",
       "          -2.0695e-02,  8.0460e-02, -1.7759e-02,  2.7813e-02,  8.7274e-02,\n",
       "           6.7186e-02,  1.4212e-02, -4.4132e-02,  4.8728e-02, -6.2044e-02,\n",
       "           4.1899e-02,  5.0440e-02,  5.7337e-03,  5.6911e-02, -7.3314e-02,\n",
       "          -8.6062e-02, -3.8804e-02, -2.8734e-02, -2.6165e-02,  1.5449e-02,\n",
       "           7.2322e-02, -8.7735e-02,  8.2532e-02,  7.0483e-02, -7.8864e-02,\n",
       "          -9.6911e-02,  8.6635e-02,  5.3239e-02,  6.6749e-02, -6.7538e-02,\n",
       "          -4.0530e-02,  4.0530e-02,  7.3090e-02, -5.1688e-02,  7.9047e-03,\n",
       "          -6.1236e-02,  8.9401e-02,  3.3727e-02, -7.3146e-02, -6.5652e-02,\n",
       "          -7.7067e-02,  4.6420e-02,  4.7122e-02, -1.2481e-02,  3.1608e-02,\n",
       "          -5.4304e-02, -4.0355e-03,  9.4766e-02, -4.5835e-02,  6.4401e-02,\n",
       "          -6.6231e-02, -6.0507e-03, -8.4604e-02,  8.3740e-02,  2.9237e-02,\n",
       "           2.3473e-02, -7.3549e-02,  9.7461e-02, -2.1010e-02,  8.5319e-03,\n",
       "           3.0959e-02,  9.3193e-02, -2.9767e-02, -8.4936e-02,  3.9548e-02,\n",
       "           7.2172e-02,  7.0599e-02, -7.4611e-02, -2.3428e-02,  7.4394e-02,\n",
       "          -7.7651e-02,  4.0701e-02, -3.6367e-02, -3.9815e-02, -4.7879e-02],\n",
       "         [ 1.9275e-02,  6.5685e-02, -6.5695e-02,  8.5889e-02, -9.3496e-02,\n",
       "           1.3922e-02, -1.8383e-03, -8.2499e-03, -8.0395e-02, -6.1057e-02,\n",
       "          -9.7771e-02, -8.3623e-02,  2.5707e-03, -9.0735e-02,  5.3937e-02,\n",
       "          -9.4027e-02, -5.1781e-02, -8.5040e-02, -5.1454e-02,  3.3221e-02,\n",
       "           4.9889e-02, -7.8367e-02,  8.9843e-02, -4.8353e-02,  9.4633e-02,\n",
       "          -8.2707e-02, -8.4801e-02,  1.5488e-02, -7.0119e-02, -5.0093e-02,\n",
       "          -2.0358e-02, -6.2336e-03,  7.3669e-02,  7.9604e-03, -9.0884e-03,\n",
       "          -2.2793e-02,  1.2623e-02,  3.3463e-02,  6.7759e-02,  5.9103e-02,\n",
       "           3.9623e-02, -7.1277e-02, -6.0374e-02, -9.0054e-02,  7.7700e-02,\n",
       "           5.2360e-02,  4.9954e-03, -3.1070e-02, -5.5520e-02, -1.0141e-02,\n",
       "          -1.0139e-02,  4.5918e-02,  2.1805e-02, -1.8256e-02,  8.3852e-02,\n",
       "          -6.2316e-02, -3.9116e-02,  4.7420e-02, -1.2800e-02,  4.3562e-02,\n",
       "           7.4673e-02, -5.8152e-02, -9.7567e-02,  6.3381e-02, -3.6217e-03,\n",
       "           7.1319e-02, -3.6490e-02, -5.9629e-02, -8.0815e-02,  3.5538e-02,\n",
       "          -7.6705e-02, -3.7779e-02, -4.4045e-02,  1.0717e-03,  2.6015e-02,\n",
       "           7.1282e-02,  1.1840e-02,  9.5527e-02,  4.5801e-02,  3.4180e-02,\n",
       "           7.5950e-02,  6.3478e-02, -6.7875e-02, -9.7727e-02, -4.7882e-03,\n",
       "           5.1902e-02, -2.5550e-02,  6.9682e-02,  2.8580e-02, -5.5470e-02,\n",
       "           9.9020e-02, -4.9208e-02,  8.1764e-02,  7.9116e-02,  8.1334e-03,\n",
       "           8.2348e-02,  9.0152e-06, -9.8829e-02, -7.4940e-03,  9.9455e-02],\n",
       "         [ 6.4098e-02,  2.2094e-02, -5.8208e-03, -9.9941e-02,  8.6646e-02,\n",
       "           9.7601e-02,  4.9342e-04, -8.6386e-02, -2.1654e-02,  1.1408e-02,\n",
       "          -3.2891e-02,  3.6655e-02, -1.6805e-02, -6.7499e-02,  9.5374e-02,\n",
       "          -9.5450e-02, -2.1845e-02,  7.8836e-02, -5.5592e-02,  7.8097e-02,\n",
       "          -9.4771e-02,  4.2300e-02, -8.0871e-02,  1.3394e-02, -5.8403e-02,\n",
       "          -1.2716e-02,  4.3497e-02,  2.0570e-02, -4.8445e-02, -1.4207e-02,\n",
       "          -1.9212e-02, -5.2036e-02,  8.6149e-03, -1.8702e-02,  9.4540e-02,\n",
       "          -2.2532e-02, -3.7818e-02,  3.9299e-02,  1.5986e-02,  7.4047e-02,\n",
       "          -5.6488e-03,  2.2186e-02,  6.2724e-02,  7.1887e-03,  7.3183e-02,\n",
       "           1.5584e-02, -7.7088e-02,  4.8007e-02, -8.9995e-02, -4.1654e-02,\n",
       "           9.4196e-03, -1.5354e-02,  5.8549e-02, -8.5755e-02,  5.7635e-02,\n",
       "           6.8145e-02, -8.0880e-02, -9.2360e-04, -2.7373e-02, -1.4056e-02,\n",
       "          -7.5935e-02, -9.3995e-02, -5.4446e-02, -5.1042e-02, -2.6836e-02,\n",
       "           3.5293e-02, -1.2931e-02, -4.8287e-02,  6.6916e-02,  2.1860e-02,\n",
       "           8.7918e-02,  6.8832e-02, -2.6080e-02, -7.6691e-02, -9.9615e-02,\n",
       "           7.8463e-02, -5.6888e-02, -2.3560e-02, -6.4187e-03,  8.7804e-02,\n",
       "           1.7319e-02,  5.6289e-02,  2.8257e-02, -8.6446e-02, -3.5838e-03,\n",
       "           1.9988e-02,  2.6275e-02, -6.8376e-02, -3.7671e-03,  1.8141e-02,\n",
       "           8.5448e-02, -9.3275e-02,  9.6462e-02, -9.2593e-02,  7.8389e-02,\n",
       "           6.0332e-03,  8.6617e-02, -6.8832e-02,  3.0902e-02, -5.7039e-02],\n",
       "         [-8.6646e-02, -5.9055e-02, -6.4042e-03, -9.3107e-02, -8.6566e-02,\n",
       "           9.0252e-02,  1.1794e-02, -3.0798e-03,  7.4971e-03,  2.0283e-02,\n",
       "          -7.3520e-02, -5.1222e-02, -4.1333e-02, -6.3659e-02,  5.4293e-02,\n",
       "           7.4210e-02,  9.4083e-02,  8.6777e-04,  3.0498e-02, -8.1835e-03,\n",
       "           7.2815e-02, -6.4560e-02,  4.0501e-02,  9.4016e-02, -8.9814e-02,\n",
       "           3.2659e-02, -2.3273e-02,  7.9742e-02, -8.3952e-03,  9.8038e-02,\n",
       "           1.9262e-02, -3.7488e-02, -2.2767e-02,  5.8898e-02,  7.0703e-02,\n",
       "          -8.3011e-02,  9.4926e-02, -5.5376e-02, -4.8449e-02,  8.4910e-02,\n",
       "           1.1341e-02, -1.7869e-02,  1.5642e-02,  1.9180e-03,  8.9204e-02,\n",
       "          -1.2261e-02, -9.6132e-02, -1.6876e-03,  7.5593e-02, -2.6155e-02,\n",
       "          -3.6588e-02, -7.0747e-02,  7.8326e-02,  7.9865e-02, -1.9121e-03,\n",
       "           4.3987e-02, -8.1004e-02,  6.4827e-02, -7.8487e-02, -3.9412e-02,\n",
       "           2.9884e-02, -7.2165e-02, -9.9444e-02, -5.2231e-02,  8.7741e-02,\n",
       "           3.8823e-02, -5.2001e-02, -3.3610e-02,  9.4360e-02,  9.8073e-02,\n",
       "           3.6109e-02, -5.1101e-02,  5.9513e-03,  2.3856e-02, -5.2256e-02,\n",
       "           8.0710e-03,  2.8664e-02,  5.2087e-02, -4.7990e-03, -6.0029e-02,\n",
       "          -4.2661e-02, -6.2361e-02,  9.9978e-03,  9.1728e-02, -3.7230e-02,\n",
       "          -1.1758e-02,  3.8696e-03,  9.7868e-03, -1.2781e-02, -8.8340e-02,\n",
       "          -3.5979e-02,  3.8983e-02,  5.0206e-02,  2.4018e-02,  8.5457e-02,\n",
       "           4.8707e-02,  6.7998e-02,  1.4241e-02, -4.4886e-02, -7.5748e-02],\n",
       "         [-2.7074e-03,  1.8622e-02, -4.0290e-02, -3.5921e-03, -7.6882e-02,\n",
       "           5.1162e-02,  8.6970e-02, -2.8830e-02, -6.1755e-02, -3.7623e-02,\n",
       "          -1.6884e-02,  6.4517e-02,  6.3640e-02, -4.2471e-02,  6.5762e-02,\n",
       "          -9.8150e-02, -9.2465e-02, -6.9353e-02,  7.1811e-02,  5.5087e-02,\n",
       "           6.4841e-02,  8.6864e-02,  8.1670e-02,  6.5838e-02,  3.2595e-02,\n",
       "          -8.3762e-02,  3.0900e-02,  9.2350e-02, -8.3609e-02, -5.9901e-02,\n",
       "          -1.5178e-02, -9.5324e-02, -3.3966e-02,  4.2359e-02, -5.8469e-02,\n",
       "           8.6882e-02,  2.5090e-02, -1.6922e-03, -6.7350e-02,  2.4701e-02,\n",
       "          -2.2313e-02,  8.5243e-02,  2.4586e-02, -7.6920e-02, -5.7894e-02,\n",
       "          -1.2455e-02,  9.0009e-02,  4.9226e-02,  7.8454e-02, -2.4550e-02,\n",
       "           8.1261e-02, -4.3042e-02,  8.3394e-02,  1.9180e-02, -4.2991e-02,\n",
       "           1.4408e-02,  1.7451e-03, -2.7528e-02, -1.4597e-02, -6.3780e-03,\n",
       "          -9.4292e-02, -4.3848e-03, -5.6519e-03,  6.9653e-02,  8.8657e-02,\n",
       "          -7.9117e-02,  3.8525e-02,  7.6731e-02,  5.0346e-02,  7.8327e-02,\n",
       "           3.4114e-03, -5.2358e-02,  6.9316e-02,  7.1718e-02,  2.6515e-02,\n",
       "           3.7442e-02,  1.2846e-02, -5.3417e-02, -2.5356e-02, -6.1307e-02,\n",
       "          -3.3690e-02, -4.3438e-02, -5.6795e-02,  6.6328e-02,  7.9796e-02,\n",
       "          -7.4078e-02,  2.5307e-02,  9.1254e-02, -6.1078e-02, -7.8728e-02,\n",
       "           4.5639e-02,  7.5659e-02,  8.8816e-02,  4.8566e-02,  4.2067e-02,\n",
       "           7.6078e-02, -2.6105e-02,  1.3300e-02, -8.3382e-02,  9.5685e-03],\n",
       "         [-2.2189e-02, -9.9900e-02, -4.1544e-02,  5.9023e-02, -4.1024e-02,\n",
       "           3.5367e-02,  8.3452e-02,  2.0742e-02,  6.6297e-02,  9.2877e-02,\n",
       "           2.3906e-02, -7.5155e-02, -5.4149e-02,  5.2232e-03, -7.8152e-02,\n",
       "          -3.4469e-02, -4.2857e-02,  7.9091e-02,  3.1926e-03, -5.7585e-03,\n",
       "          -6.8308e-02, -6.7447e-02,  1.3991e-02, -1.1324e-02,  8.2946e-02,\n",
       "           1.2047e-02, -4.3078e-02,  1.2365e-02,  3.0246e-02, -8.7035e-02,\n",
       "           8.9128e-02, -9.4082e-02,  1.2694e-02,  3.7024e-02, -1.2731e-02,\n",
       "          -4.5879e-02,  3.1634e-03, -8.0317e-02,  9.4948e-02, -5.7538e-02,\n",
       "           2.1601e-02,  5.1637e-02,  2.1347e-02,  8.8179e-02, -4.0480e-02,\n",
       "          -4.6632e-02, -6.5562e-03,  2.5222e-02, -6.0077e-02,  2.1389e-02,\n",
       "           4.4000e-02,  7.6788e-02, -4.6199e-02, -4.5321e-02,  2.7665e-02,\n",
       "           9.3810e-02,  9.6513e-02, -4.4488e-02,  8.8840e-02,  5.4068e-02,\n",
       "          -1.9848e-02, -4.1465e-02, -8.5998e-03,  5.3543e-02,  2.9940e-02,\n",
       "           9.8612e-02,  1.7417e-02, -1.5597e-03, -8.6319e-02, -8.9204e-02,\n",
       "          -1.0172e-02,  2.2731e-02, -2.9794e-02,  9.3697e-02,  2.7370e-02,\n",
       "          -7.4861e-02,  2.1103e-02, -5.1737e-03, -3.8437e-02,  5.3144e-02,\n",
       "          -7.9621e-02,  8.9109e-02, -7.4197e-03,  5.4003e-02, -1.8417e-02,\n",
       "          -2.3849e-02,  5.8113e-02, -1.1537e-02,  7.8973e-02,  8.7994e-02,\n",
       "           6.7556e-04,  5.9483e-03, -9.0594e-03, -8.0752e-02, -5.6190e-02,\n",
       "           1.9529e-02, -9.7028e-02,  2.3182e-02,  9.0092e-02, -6.3865e-02]],\n",
       "        requires_grad=True),\n",
       " Parameter containing:\n",
       " tensor([-0.0945,  0.0522, -0.0955, -0.0980, -0.0990,  0.0941, -0.0797, -0.0022,\n",
       "         -0.0827,  0.0632], requires_grad=True)]"
      ]
     },
     "execution_count": 46,
     "metadata": {},
     "output_type": "execute_result"
    }
   ],
   "execution_count": 46
  },
  {
   "cell_type": "code",
   "metadata": {
    "ExecuteTime": {
     "end_time": "2025-02-25T15:45:42.587408Z",
     "start_time": "2025-02-25T15:45:42.583608Z"
    }
   },
   "source": [
    "# model.state_dict()  # 这种方法用于保存模型参数，看能看见参数属于模型的哪一部分"
   ],
   "outputs": [],
   "execution_count": 47
  },
  {
   "cell_type": "markdown",
   "metadata": {},
   "source": [
    "## 训练\n",
    "\n",
    "pytorch的训练需要自行实现，包括\n",
    "1. 定义损失函数\n",
    "2. 定义优化器\n",
    "3. 定义训练步\n",
    "4. 训练"
   ]
  },
  {
   "cell_type": "code",
   "metadata": {
    "ExecuteTime": {
     "end_time": "2025-02-25T15:45:42.650302Z",
     "start_time": "2025-02-25T15:45:42.645779Z"
    }
   },
   "source": [
    "# 1. 定义损失函数 采用交叉熵损失\n",
    "loss_fct = nn.CrossEntropyLoss() #内部先做softmax，然后计算交叉熵\n",
    "# 2. 定义优化器 采用SGD\n",
    "# Optimizers specified in the torch.optim package,随机梯度下降\n",
    "optimizer = torch.optim.SGD(model.parameters(), lr=0.001, momentum=0.9)"
   ],
   "outputs": [],
   "execution_count": 48
  },
  {
   "cell_type": "code",
   "metadata": {
    "ExecuteTime": {
     "end_time": "2025-02-25T15:45:42.755974Z",
     "start_time": "2025-02-25T15:45:42.667609Z"
    }
   },
   "source": [
    "from sklearn.metrics import accuracy_score\n",
    "\n",
    "@torch.no_grad() # 装饰器，禁止反向传播，节省内存\n",
    "def evaluating(model, dataloader, loss_fct):\n",
    "    loss_list = [] # 记录损失\n",
    "    pred_list = [] # 记录预测\n",
    "    label_list = [] # 记录标签\n",
    "    for datas, labels in dataloader:#10000/32=312\n",
    "        datas = datas.to(device) # 转到GPU\n",
    "        labels = labels.to(device) # 转到GPU\n",
    "        # 前向计算\n",
    "        logits = model(datas)\n",
    "        loss = loss_fct(logits, labels)         # 验证集损失\n",
    "        loss_list.append(loss.item()) # 记录损失\n",
    "        \n",
    "        preds = logits.argmax(axis=-1)    # 验证集预测,argmax返回最大值索引\n",
    "        # print(preds)\n",
    "        pred_list.extend(preds.cpu().numpy().tolist())#将PyTorch张量转换为NumPy数组。只有当张量在CPU上时，这个转换才是合法的\n",
    "        # print(preds.cpu().numpy().tolist())\n",
    "        label_list.extend(labels.cpu().numpy().tolist())\n",
    "        \n",
    "    acc = accuracy_score(label_list, pred_list) # 计算准确率\n",
    "    return np.mean(loss_list), acc\n"
   ],
   "outputs": [],
   "execution_count": 49
  },
  {
   "cell_type": "code",
   "source": [
    "1875*20"
   ],
   "metadata": {
    "collapsed": false,
    "ExecuteTime": {
     "end_time": "2025-02-25T15:45:42.763589Z",
     "start_time": "2025-02-25T15:45:42.756980Z"
    }
   },
   "outputs": [
    {
     "data": {
      "text/plain": [
       "37500"
      ]
     },
     "execution_count": 50,
     "metadata": {},
     "output_type": "execute_result"
    }
   ],
   "execution_count": 50
  },
  {
   "cell_type": "code",
   "metadata": {
    "ExecuteTime": {
     "end_time": "2025-02-25T15:52:07.459944Z",
     "start_time": "2025-02-25T15:45:42.765662Z"
    }
   },
   "source": [
    "# 训练\n",
    "def training(model, train_loader, val_loader, epoch, loss_fct, optimizer, eval_step=500):\n",
    "    record_dict = {\n",
    "        \"train\": [],\n",
    "        \"val\": []\n",
    "    }\n",
    "    \n",
    "    global_step = 0\n",
    "    model.train()\n",
    "    with tqdm(total=epoch * len(train_loader)) as pbar: # 进度条 1875*20,60000/32=1875\n",
    "        for epoch_id in range(epoch): # 训练epoch次\n",
    "            # training\n",
    "            for datas, labels in train_loader: #执行次数是60000/32=1875\n",
    "                datas = datas.to(device) #datas尺寸是[batch_size,1,28,28]\n",
    "                labels = labels.to(device) #labels尺寸是[batch_size]\n",
    "                # 梯度清空\n",
    "                optimizer.zero_grad()\n",
    "                # 模型前向计算\n",
    "                logits = model(datas)\n",
    "                # 计算损失\n",
    "                loss = loss_fct(logits, labels)\n",
    "                # 梯度回传，loss.backward()会计算梯度，loss对模型参数求导\n",
    "                loss.backward()\n",
    "                # 调整优化器，包括学习率的变动等,优化器的学习率会随着训练的进行而减小，更新w,b\n",
    "                optimizer.step() #梯度是计算并存储在模型参数的 .grad 属性中，优化器使用这些存储的梯度来更新模型参数\n",
    "\n",
    "                preds = logits.argmax(axis=-1) # 训练集预测\n",
    "                acc = accuracy_score(labels.cpu().numpy(), preds.cpu().numpy())   # 计算准确率，numpy可以\n",
    "                loss = loss.cpu().item() # 损失转到CPU，item()取值,一个数值\n",
    "                # record\n",
    "                \n",
    "                record_dict[\"train\"].append({\n",
    "                    \"loss\": loss, \"acc\": acc, \"step\": global_step\n",
    "                }) # 记录训练集信息，每一步的损失，准确率，步数\n",
    "                \n",
    "                # evaluating\n",
    "                if global_step % eval_step == 0:\n",
    "                    model.eval() # 进入评估模式\n",
    "                    val_loss, val_acc = evaluating(model, val_loader, loss_fct)\n",
    "                    record_dict[\"val\"].append({\n",
    "                        \"loss\": val_loss, \"acc\": val_acc, \"step\": global_step\n",
    "                    })\n",
    "                    model.train() # 进入训练模式\n",
    "\n",
    "                # udate step\n",
    "                global_step += 1 # 全局步数加1\n",
    "                pbar.update(1) # 更新进度条\n",
    "                pbar.set_postfix({\"epoch\": epoch_id}) # 设置进度条显示信息\n",
    "        \n",
    "    return record_dict\n",
    "        \n",
    "\n",
    "epoch = 20 #改为40\n",
    "model = model.to(device)\n",
    "record = training(model, train_loader, val_loader, epoch, loss_fct, optimizer, eval_step=1000)"
   ],
   "outputs": [
    {
     "data": {
      "text/plain": [
       "  0%|          | 0/37500 [00:00<?, ?it/s]"
      ],
      "application/vnd.jupyter.widget-view+json": {
       "version_major": 2,
       "version_minor": 0,
       "model_id": "bd5912403eda42e899e847f80e679f02"
      }
     },
     "metadata": {},
     "output_type": "display_data"
    }
   ],
   "execution_count": 51
  },
  {
   "cell_type": "code",
   "source": [
    "record[\"train\"][-5:]"
   ],
   "metadata": {
    "collapsed": false,
    "ExecuteTime": {
     "end_time": "2025-02-25T15:52:07.469322Z",
     "start_time": "2025-02-25T15:52:07.461943Z"
    }
   },
   "outputs": [
    {
     "data": {
      "text/plain": [
       "[{'loss': 0.49183037877082825, 'acc': 0.78125, 'step': 37495},\n",
       " {'loss': 0.20155854523181915, 'acc': 0.9375, 'step': 37496},\n",
       " {'loss': 0.5808051228523254, 'acc': 0.78125, 'step': 37497},\n",
       " {'loss': 0.49665606021881104, 'acc': 0.84375, 'step': 37498},\n",
       " {'loss': 0.3061177432537079, 'acc': 0.875, 'step': 37499}]"
      ]
     },
     "execution_count": 52,
     "metadata": {},
     "output_type": "execute_result"
    }
   ],
   "execution_count": 52
  },
  {
   "cell_type": "code",
   "source": [
    "record[\"val\"][-5:]"
   ],
   "metadata": {
    "collapsed": false,
    "ExecuteTime": {
     "end_time": "2025-02-25T15:52:07.479577Z",
     "start_time": "2025-02-25T15:52:07.470322Z"
    }
   },
   "outputs": [
    {
     "data": {
      "text/plain": [
       "[{'loss': 0.37045203987211467, 'acc': 0.8693, 'step': 33000},\n",
       " {'loss': 0.3881460871107091, 'acc': 0.8623, 'step': 34000},\n",
       " {'loss': 0.35886208273875064, 'acc': 0.8714, 'step': 35000},\n",
       " {'loss': 0.36083285412944544, 'acc': 0.8684, 'step': 36000},\n",
       " {'loss': 0.3665624758639275, 'acc': 0.8704, 'step': 37000}]"
      ]
     },
     "execution_count": 53,
     "metadata": {},
     "output_type": "execute_result"
    }
   ],
   "execution_count": 53
  },
  {
   "cell_type": "code",
   "metadata": {
    "ExecuteTime": {
     "end_time": "2025-02-25T15:52:07.884293Z",
     "start_time": "2025-02-25T15:52:07.482811Z"
    }
   },
   "source": [
    "#画线要注意的是损失是不一定在零到1之间的\n",
    "def plot_learning_curves(record_dict, sample_step=1000):\n",
    "    # build DataFrame\n",
    "    train_df = pd.DataFrame(record_dict[\"train\"]).set_index(\"step\").iloc[::sample_step]\n",
    "    val_df = pd.DataFrame(record_dict[\"val\"]).set_index(\"step\")\n",
    "    last_step = train_df.index[-1] # 最后一步的步数\n",
    "    # print(train_df.columns)\n",
    "    print(train_df['acc'])\n",
    "    print(val_df['acc'])\n",
    "    # plot\n",
    "    fig_num = len(train_df.columns) # 画几张图,分别是损失和准确率\n",
    "    fig, axs = plt.subplots(1, fig_num, figsize=(5 * fig_num, 5))\n",
    "    for idx, item in enumerate(train_df.columns):\n",
    "        # print(train_df[item].values)\n",
    "        axs[idx].plot(train_df.index, train_df[item], label=f\"train_{item}\")\n",
    "        axs[idx].plot(val_df.index, val_df[item], label=f\"val_{item}\")\n",
    "        axs[idx].grid() # 显示网格\n",
    "        axs[idx].legend() # 显示图例\n",
    "        axs[idx].set_xticks(range(0, train_df.index[-1], 5000)) # 设置x轴刻度\n",
    "        axs[idx].set_xticklabels(map(lambda x: f\"{int(x/1000)}k\", range(0, last_step, 5000))) # 设置x轴标签\n",
    "        axs[idx].set_xlabel(\"step\")\n",
    "    \n",
    "    plt.show()\n",
    "\n",
    "plot_learning_curves(record)  #横坐标是 steps"
   ],
   "outputs": [
    {
     "name": "stdout",
     "output_type": "stream",
     "text": [
      "step\n",
      "0        0.06250\n",
      "1000     0.71875\n",
      "2000     0.78125\n",
      "3000     0.75000\n",
      "4000     0.71875\n",
      "5000     0.87500\n",
      "6000     0.90625\n",
      "7000     0.93750\n",
      "8000     0.84375\n",
      "9000     0.75000\n",
      "10000    0.81250\n",
      "11000    0.87500\n",
      "12000    0.87500\n",
      "13000    0.71875\n",
      "14000    0.84375\n",
      "15000    0.96875\n",
      "16000    0.90625\n",
      "17000    0.75000\n",
      "18000    0.96875\n",
      "19000    0.81250\n",
      "20000    0.84375\n",
      "21000    0.87500\n",
      "22000    0.87500\n",
      "23000    0.75000\n",
      "24000    0.90625\n",
      "25000    0.90625\n",
      "26000    0.84375\n",
      "27000    0.93750\n",
      "28000    0.87500\n",
      "29000    0.87500\n",
      "30000    0.81250\n",
      "31000    0.90625\n",
      "32000    1.00000\n",
      "33000    0.96875\n",
      "34000    0.87500\n",
      "35000    0.75000\n",
      "36000    0.93750\n",
      "37000    0.93750\n",
      "Name: acc, dtype: float64\n",
      "step\n",
      "0        0.0472\n",
      "1000     0.6958\n",
      "2000     0.7684\n",
      "3000     0.7911\n",
      "4000     0.8036\n",
      "5000     0.8220\n",
      "6000     0.8227\n",
      "7000     0.8299\n",
      "8000     0.8150\n",
      "9000     0.8384\n",
      "10000    0.8252\n",
      "11000    0.8400\n",
      "12000    0.8421\n",
      "13000    0.8458\n",
      "14000    0.8488\n",
      "15000    0.8481\n",
      "16000    0.8510\n",
      "17000    0.8493\n",
      "18000    0.8420\n",
      "19000    0.8569\n",
      "20000    0.8573\n",
      "21000    0.8585\n",
      "22000    0.8610\n",
      "23000    0.8623\n",
      "24000    0.8556\n",
      "25000    0.8663\n",
      "26000    0.8652\n",
      "27000    0.8584\n",
      "28000    0.8597\n",
      "29000    0.8654\n",
      "30000    0.8685\n",
      "31000    0.8720\n",
      "32000    0.8708\n",
      "33000    0.8693\n",
      "34000    0.8623\n",
      "35000    0.8714\n",
      "36000    0.8684\n",
      "37000    0.8704\n",
      "Name: acc, dtype: float64\n"
     ]
    },
    {
     "data": {
      "text/plain": [
       "<Figure size 1000x500 with 2 Axes>"
      ],
      "image/png": "[encoded data removed]"
     },
     "metadata": {},
     "output_type": "display_data"
    }
   ],
   "execution_count": 54
  },
  {
   "cell_type": "markdown",
   "metadata": {},
   "source": [
    "## 评估"
   ]
  },
  {
   "cell_type": "code",
   "metadata": {
    "ExecuteTime": {
     "end_time": "2025-02-25T15:52:09.775917Z",
     "start_time": "2025-02-25T15:52:07.886292Z"
    }
   },
   "source": [
    "# dataload for evaluating\n",
    "\n",
    "model.eval() # 进入评估模式\n",
    "loss, acc = evaluating(model, val_loader, loss_fct)\n",
    "print(f\"loss:     {loss:.4f}\\naccuracy: {acc:.4f}\")"
   ],
   "outputs": [
    {
     "name": "stdout",
     "output_type": "stream",
     "text": [
      "loss:     0.3495\n",
      "accuracy: 0.8751\n"
     ]
    }
   ],
   "execution_count": 55
  }
 ],
 "metadata": {
  "kernelspec": {
   "display_name": "Python 3 (ipykernel)",
   "language": "python",
   "name": "python3"
  },
  "language_info": {
   "codemirror_mode": {
    "name": "ipython",
    "version": 3
   },
   "file_extension": ".py",
   "mimetype": "text/x-python",
   "name": "python",
   "nbconvert_exporter": "python",
   "pygments_lexer": "ipython3",
   "version": "3.9.7"
  }
 },
 "nbformat": 4,
 "nbformat_minor": 2
}
